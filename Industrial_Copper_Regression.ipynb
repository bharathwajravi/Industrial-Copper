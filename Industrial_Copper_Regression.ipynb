{
  "cells": [
    {
      "cell_type": "code",
      "execution_count": null,
      "metadata": {
        "colab": {
          "base_uri": "https://localhost:8080/"
        },
        "id": "2eOQG2oRYlHP",
        "outputId": "81ed4e5c-d76f-486f-b711-240ab31c76ca"
      },
      "outputs": [
        {
          "output_type": "stream",
          "name": "stdout",
          "text": [
            "Original DataFrame:\n",
            "                                     id   item_date quantity tons    customer  \\\n",
            "0  EC06F063-9DF0-440C-8764-0B0C05A4F6AE  20210401.0     54.151139  30156308.0   \n",
            "1  4E5F4B3D-DDDF-499D-AFDE-A3227EC49425  20210401.0    768.024839  30202938.0   \n",
            "2  E140FF1B-2407-4C02-A0DD-780A093B1158  20210401.0    386.127949  30153963.0   \n",
            "3  F8D507A0-9C62-4EFE-831E-33E1DA53BB50  20210401.0    202.411065  30349574.0   \n",
            "4  4E1C4E78-152B-430A-8094-ADD889C9D0AD  20210401.0    785.526262  30211560.0   \n",
            "\n",
            "   country status item type  application  thickness   width  \\\n",
            "0     28.0    Won         W         10.0       2.00  1500.0   \n",
            "1     25.0    Won         W         41.0       0.80  1210.0   \n",
            "2     30.0    Won        WI         28.0       0.38   952.0   \n",
            "3     32.0    Won         S         59.0       2.30  1317.0   \n",
            "4     28.0    Won         W         10.0       4.00  2000.0   \n",
            "\n",
            "              material_ref  product_ref  delivery date  selling_price  \n",
            "0              DEQ1 S460MC   1670798778     20210701.0         854.00  \n",
            "1                   104991   1668701718     20210401.0        1047.00  \n",
            "2                 S0380700       628377     20210101.0         644.33  \n",
            "3  DX51D+ZM310MAO 2.3X1317   1668701718     20210101.0         768.00  \n",
            "4          2_S275JR+AR-CL1       640665     20210301.0         577.00  \n"
          ]
        },
        {
          "output_type": "stream",
          "name": "stderr",
          "text": [
            "<ipython-input-2-2428280ceb15>:4: DtypeWarning: Columns (2) have mixed types. Specify dtype option on import or set low_memory=False.\n",
            "  df = pd.read_csv('Copper_Set.csv', encoding='latin-1')\n"
          ]
        }
      ],
      "source": [
        "import pandas as pd\n",
        "\n",
        "# Read the file with a different encoding, like 'latin-1'\n",
        "df = pd.read_csv('Copper_Set.csv', encoding='latin-1')\n",
        "\n",
        "# Display the first few rows of the original DataFrame\n",
        "print(\"Original DataFrame:\")\n",
        "print(df.head())\n",
        "\n"
      ]
    },
    {
      "cell_type": "code",
      "execution_count": null,
      "metadata": {
        "colab": {
          "base_uri": "https://localhost:8080/"
        },
        "id": "-SAPBVTyh3HH",
        "outputId": "c96b501f-1f81-4935-b2b5-e7e19d907c7d"
      },
      "outputs": [
        {
          "output_type": "stream",
          "name": "stdout",
          "text": [
            "Numerical Columns:\n",
            "['item_date', 'customer', 'country', 'application', 'thickness', 'width', 'product_ref', 'delivery date', 'selling_price']\n",
            "\n",
            "Categorical Columns:\n",
            "['id', 'quantity tons', 'status', 'item type', 'material_ref']\n"
          ]
        }
      ],
      "source": [
        "import pandas as pd\n",
        "\n",
        "# Assuming your DataFrame is named df\n",
        "\n",
        "# Numerical columns\n",
        "numerical_columns = df.select_dtypes(include=['float64', 'int64']).columns.tolist()\n",
        "\n",
        "# Categorical columns\n",
        "categorical_columns = df.select_dtypes(include=['object', 'category']).columns.tolist()\n",
        "\n",
        "# Displaying the lists\n",
        "print(\"Numerical Columns:\")\n",
        "print(numerical_columns)\n",
        "print(\"\\nCategorical Columns:\")\n",
        "print(categorical_columns)\n"
      ]
    },
    {
      "cell_type": "code",
      "execution_count": null,
      "metadata": {
        "colab": {
          "base_uri": "https://localhost:8080/"
        },
        "id": "fuYirBFDh_J_",
        "outputId": "d5fe8422-081f-412b-b820-f9ca235d9bf5"
      },
      "outputs": [
        {
          "output_type": "stream",
          "name": "stdout",
          "text": [
            "       id   item_date  quantity tons    customer  country  status  item type  \\\n",
            "0  167599  20210401.0         135668  30156308.0     28.0       7          5   \n",
            "1   55577  20210401.0         163266  30202938.0     25.0       7          5   \n",
            "2  159737  20210401.0         110073  30153963.0     30.0       7          6   \n",
            "3  176555  20210401.0          49759  30349574.0     32.0       7          3   \n",
            "4   55380  20210401.0         164459  30211560.0     28.0       7          5   \n",
            "\n",
            "   application  thickness   width  material_ref  product_ref  delivery date  \\\n",
            "0         10.0       2.00  1500.0         10292   1670798778     20210701.0   \n",
            "1         41.0       0.80  1210.0          1995   1668701718     20210401.0   \n",
            "2         28.0       0.38   952.0         14596       628377     20210101.0   \n",
            "3         59.0       2.30  1317.0         10566   1668701718     20210101.0   \n",
            "4         10.0       4.00  2000.0          4604       640665     20210301.0   \n",
            "\n",
            "   selling_price  \n",
            "0         854.00  \n",
            "1        1047.00  \n",
            "2         644.33  \n",
            "3         768.00  \n",
            "4         577.00  \n"
          ]
        }
      ],
      "source": [
        "from sklearn.preprocessing import LabelEncoder\n",
        "\n",
        "# Assuming your DataFrame is named df\n",
        "\n",
        "# Categorical columns to encode\n",
        "categorical_columns_to_encode = ['id', 'quantity tons', 'status', 'item type', 'material_ref']\n",
        "\n",
        "# Initialize LabelEncoder\n",
        "label_encoder = LabelEncoder()\n",
        "\n",
        "# Encode categorical columns\n",
        "for col in categorical_columns_to_encode:\n",
        "    if col in df.columns:\n",
        "        df[col] = label_encoder.fit_transform(df[col].astype(str))\n",
        "\n",
        "# Display the updated DataFrame\n",
        "print(df.head())\n"
      ]
    },
    {
      "cell_type": "code",
      "execution_count": null,
      "metadata": {
        "colab": {
          "base_uri": "https://localhost:8080/"
        },
        "id": "wTSGOPD5kB7f",
        "outputId": "61d98cea-fbb9-4325-9912-bf348fe7a55c"
      },
      "outputs": [
        {
          "output_type": "stream",
          "name": "stdout",
          "text": [
            "Missing values before cleaning:\n",
            "id                0\n",
            "item_date         1\n",
            "quantity tons     0\n",
            "customer          1\n",
            "country          28\n",
            "status            0\n",
            "item type         0\n",
            "application      24\n",
            "thickness         1\n",
            "width             0\n",
            "material_ref      0\n",
            "product_ref       0\n",
            "delivery date     1\n",
            "selling_price     1\n",
            "dtype: int64\n",
            "\n",
            "Missing values after cleaning:\n",
            "id               0\n",
            "item_date        0\n",
            "quantity tons    0\n",
            "customer         0\n",
            "country          0\n",
            "status           0\n",
            "item type        0\n",
            "application      0\n",
            "thickness        0\n",
            "width            0\n",
            "material_ref     0\n",
            "product_ref      0\n",
            "delivery date    0\n",
            "selling_price    0\n",
            "dtype: int64\n",
            "\n",
            "Cleaned and Preprocessed DataFrame:\n",
            "       id  item_date  quantity tons    customer  country  status  item type  \\\n",
            "0  167599   20210401         135668  30156308.0     28.0       7          5   \n",
            "1   55577   20210401         163266  30202938.0     25.0       7          5   \n",
            "2  159737   20210401         110073  30153963.0     30.0       7          6   \n",
            "3  176555   20210401          49759  30349574.0     32.0       7          3   \n",
            "4   55380   20210401         164459  30211560.0     28.0       7          5   \n",
            "\n",
            "   application  thickness   width  material_ref  product_ref  delivery date  \\\n",
            "0         10.0       2.00  1500.0         10292   1670798778     20210701.0   \n",
            "1         41.0       0.80  1210.0          1995   1668701718     20210401.0   \n",
            "2         28.0       0.38   952.0         14596       628377     20210101.0   \n",
            "3         59.0       2.30  1317.0         10566   1668701718     20210101.0   \n",
            "4         10.0       4.00  2000.0          4604       640665     20210301.0   \n",
            "\n",
            "   selling_price  \n",
            "0         854.00  \n",
            "1        1047.00  \n",
            "2         644.33  \n",
            "3         768.00  \n",
            "4         577.00  \n"
          ]
        }
      ],
      "source": [
        "import pandas as pd\n",
        "import numpy as np\n",
        "\n",
        "# Assuming your DataFrame is named df\n",
        "\n",
        "# Check for missing values\n",
        "print(\"Missing values before cleaning:\")\n",
        "print(df.isnull().sum())\n",
        "\n",
        "# Replace missing values if any (example: replacing with mean for numerical columns)\n",
        "df.fillna(df.mean(), inplace=True)  # Replace NaN values with mean of each column\n",
        "\n",
        "# Verify if there are any missing values after filling\n",
        "print(\"\\nMissing values after cleaning:\")\n",
        "print(df.isnull().sum())\n",
        "\n",
        "# Optional: Convert data types if needed (example: converting float columns to int if appropriate)\n",
        "df['item_date'] = df['item_date'].astype(int)  # Example conversion from float to int\n",
        "\n",
        "# Optional: Outlier detection and handling (example: removing rows with outliers)\n",
        "# Define function to detect outliers using z-score\n",
        "def detect_outliers(df, threshold=3):\n",
        "    z_scores = np.abs((df - df.mean()) / df.std())\n",
        "    return z_scores > threshold\n",
        "\n",
        "# Apply outlier detection on numerical columns (adjust as per your need)\n",
        "numerical_columns = df.select_dtypes(include=['float64', 'int64']).columns\n",
        "outliers = df[numerical_columns].apply(detect_outliers)\n",
        "\n",
        "# Remove rows containing outliers\n",
        "df = df[~outliers.any(axis=1)]\n",
        "\n",
        "# Display cleaned and preprocessed DataFrame\n",
        "print(\"\\nCleaned and Preprocessed DataFrame:\")\n",
        "print(df.head())\n"
      ]
    },
    {
      "cell_type": "code",
      "source": [
        "import pandas as pd\n",
        "from sklearn.model_selection import train_test_split, GridSearchCV\n",
        "from sklearn.preprocessing import StandardScaler\n",
        "from sklearn.linear_model import Ridge\n",
        "from sklearn.metrics import mean_absolute_error, mean_squared_error, r2_score, explained_variance_score\n",
        "import numpy as np\n",
        "\n",
        "# Prepare data\n",
        "X = df.drop(columns=['selling_price'])  # Drop target variable 'selling_price'\n",
        "y = df['selling_price']  # Target variable\n",
        "\n",
        "# Feature Scaling\n",
        "scaler = StandardScaler()\n",
        "X_scaled = scaler.fit_transform(X)\n",
        "\n",
        "# Split the data into training and testing sets\n",
        "X_train, X_test, y_train, y_test = train_test_split(X_scaled, y, test_size=0.2, random_state=42)\n",
        "\n",
        "# Define the model\n",
        "ridge = Ridge()\n",
        "\n",
        "# Hyperparameter tuning using GridSearchCV with parallel processing\n",
        "param_grid = {\n",
        "    'alpha': [0.1, 1.0, 10.0, 100.0],\n",
        "    'solver': ['auto', 'svd', 'cholesky', 'lsqr', 'sparse_cg', 'sag', 'saga']\n",
        "}\n",
        "grid_search = GridSearchCV(ridge, param_grid, cv=5, scoring='r2', n_jobs=-1)  # Use all available cores\n",
        "grid_search.fit(X_train, y_train)\n",
        "\n",
        "# Best model\n",
        "best_model = grid_search.best_estimator_\n",
        "\n",
        "# Make predictions\n",
        "y_pred = best_model.predict(X_test)\n",
        "\n",
        "# Evaluate the model\n",
        "mae = mean_absolute_error(y_test, y_pred)\n",
        "mse = mean_squared_error(y_test, y_pred)\n",
        "rmse = np.sqrt(mse)\n",
        "r2 = r2_score(y_test, y_pred)\n",
        "explained_var = explained_variance_score(y_test, y_pred)\n",
        "\n",
        "# Calculate \"accuracy percentage\" as explained variance * 100\n",
        "accuracy_percentage = explained_var * 100\n",
        "\n",
        "# Output the results\n",
        "print(f\"Best Parameters: {grid_search.best_params_}\")\n",
        "print(f\"Mean Absolute Error: {mae:.2f}\")\n",
        "print(f\"Root Mean Squared Error: {rmse:.2f}\")\n",
        "print(f\"R-squared: {r2:.2f}\")\n",
        "print(f\"Explained Variance (as accuracy percentage): {accuracy_percentage:.2f}%\")\n"
      ],
      "metadata": {
        "colab": {
          "base_uri": "https://localhost:8080/"
        },
        "id": "XRvd2M_qNSoc",
        "outputId": "9d1c843d-f381-4c42-af01-72d7268a5670"
      },
      "execution_count": null,
      "outputs": [
        {
          "output_type": "stream",
          "name": "stdout",
          "text": [
            "Best Parameters: {'alpha': 100.0, 'solver': 'saga'}\n",
            "Mean Absolute Error: 122.40\n",
            "Root Mean Squared Error: 186.15\n",
            "R-squared: 0.35\n",
            "Explained Variance (as accuracy percentage): 34.80%\n"
          ]
        }
      ]
    },
    {
      "cell_type": "code",
      "source": [
        "import joblib\n",
        "from google.colab import files\n",
        "\n",
        "# Save the model to a .pkl file\n",
        "model_filename = 'best_ridge_model.pkl'\n",
        "joblib.dump(grid_search.best_estimator_, model_filename)\n",
        "\n",
        "# Provide a link to download the file\n",
        "files.download(model_filename)\n"
      ],
      "metadata": {
        "colab": {
          "base_uri": "https://localhost:8080/",
          "height": 17
        },
        "id": "wzt5Zb7moXWc",
        "outputId": "6b5ad628-7f18-43bc-9219-0849eeadd678"
      },
      "execution_count": null,
      "outputs": [
        {
          "output_type": "display_data",
          "data": {
            "text/plain": [
              "<IPython.core.display.Javascript object>"
            ],
            "application/javascript": [
              "\n",
              "    async function download(id, filename, size) {\n",
              "      if (!google.colab.kernel.accessAllowed) {\n",
              "        return;\n",
              "      }\n",
              "      const div = document.createElement('div');\n",
              "      const label = document.createElement('label');\n",
              "      label.textContent = `Downloading \"${filename}\": `;\n",
              "      div.appendChild(label);\n",
              "      const progress = document.createElement('progress');\n",
              "      progress.max = size;\n",
              "      div.appendChild(progress);\n",
              "      document.body.appendChild(div);\n",
              "\n",
              "      const buffers = [];\n",
              "      let downloaded = 0;\n",
              "\n",
              "      const channel = await google.colab.kernel.comms.open(id);\n",
              "      // Send a message to notify the kernel that we're ready.\n",
              "      channel.send({})\n",
              "\n",
              "      for await (const message of channel.messages) {\n",
              "        // Send a message to notify the kernel that we're ready.\n",
              "        channel.send({})\n",
              "        if (message.buffers) {\n",
              "          for (const buffer of message.buffers) {\n",
              "            buffers.push(buffer);\n",
              "            downloaded += buffer.byteLength;\n",
              "            progress.value = downloaded;\n",
              "          }\n",
              "        }\n",
              "      }\n",
              "      const blob = new Blob(buffers, {type: 'application/binary'});\n",
              "      const a = document.createElement('a');\n",
              "      a.href = window.URL.createObjectURL(blob);\n",
              "      a.download = filename;\n",
              "      div.appendChild(a);\n",
              "      a.click();\n",
              "      div.remove();\n",
              "    }\n",
              "  "
            ]
          },
          "metadata": {}
        },
        {
          "output_type": "display_data",
          "data": {
            "text/plain": [
              "<IPython.core.display.Javascript object>"
            ],
            "application/javascript": [
              "download(\"download_a1862417-78f3-4939-90f3-d831d5b56d3a\", \"best_ridge_model.pkl\", 732)"
            ]
          },
          "metadata": {}
        }
      ]
    }
  ],
  "metadata": {
    "colab": {
      "provenance": []
    },
    "kernelspec": {
      "display_name": "Python 3",
      "name": "python3"
    },
    "language_info": {
      "name": "python"
    }
  },
  "nbformat": 4,
  "nbformat_minor": 0
}